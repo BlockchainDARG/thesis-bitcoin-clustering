{
 "cells": [
  {
   "cell_type": "code",
   "execution_count": 16,
   "metadata": {
    "collapsed": false
   },
   "outputs": [
    {
     "name": "stdout",
     "output_type": "stream",
     "text": [
      "success\n"
     ]
    }
   ],
   "source": [
    "#IMPORT\n",
    "try:\n",
    "    import pandas as pd\n",
    "    import numpy as np\n",
    "    from pandas import Series, DataFrame, Panel\n",
    "    print('success')\n",
    "except:\n",
    "    raise ImportError(\"Key libraries cannot be loaded.\")"
   ]
  },
  {
   "cell_type": "code",
   "execution_count": 18,
   "metadata": {
    "collapsed": false
   },
   "outputs": [
    {
     "name": "stdout",
     "output_type": "stream",
     "text": [
      "Populating the interactive namespace from numpy and matplotlib\n",
      "22453\n"
     ]
    }
   ],
   "source": [
    "%pylab inline\n",
    "try:\n",
    "    transaction_data = '../code/twitter-sentiment/output1.csv'\n",
    "    data = pd.read_csv(transaction_data, names=['sentiment', 'timestamp'])\n",
    "    print(len(data))\n",
    "except:\n",
    "    print('error')"
   ]
  },
  {
   "cell_type": "code",
   "execution_count": 8,
   "metadata": {
    "collapsed": false
   },
   "outputs": [
    {
     "name": "stdout",
     "output_type": "stream",
     "text": [
      "       sentiment             timestamp\n",
      "count      22453                 22453\n",
      "unique         3                 15238\n",
      "top      neutral   2016-09-02T12:10:21\n",
      "freq       13089                    23\n"
     ]
    }
   ],
   "source": [
    "print(data.describe())"
   ]
  },
  {
   "cell_type": "code",
   "execution_count": 19,
   "metadata": {
    "collapsed": false
   },
   "outputs": [
    {
     "name": "stdout",
     "output_type": "stream",
     "text": [
      "  sentiment             timestamp\n",
      "0   neutral   2016-09-01T17:36:33\n",
      "1   neutral   2016-09-01T17:36:37\n",
      "2   neutral   2016-09-01T17:36:37\n",
      "3  negative   2016-09-01T17:36:39\n",
      "4   neutral   2016-09-01T17:36:40\n",
      "5   neutral   2016-09-01T17:36:42\n",
      "6  positive   2016-09-01T17:36:43\n",
      "7   neutral   2016-09-01T17:37:02\n",
      "8  positive   2016-09-01T17:37:06\n",
      "9   neutral   2016-09-01T17:37:07\n"
     ]
    }
   ],
   "source": [
    "print(data.head(10))"
   ]
  },
  {
   "cell_type": "code",
   "execution_count": null,
   "metadata": {
    "collapsed": true
   },
   "outputs": [],
   "source": []
  }
 ],
 "metadata": {
  "kernelspec": {
   "display_name": "Python [gl-env]",
   "language": "python",
   "name": "Python [gl-env]"
  },
  "language_info": {
   "codemirror_mode": {
    "name": "ipython",
    "version": 2
   },
   "file_extension": ".py",
   "mimetype": "text/x-python",
   "name": "python",
   "nbconvert_exporter": "python",
   "pygments_lexer": "ipython2",
   "version": "2.7.12"
  }
 },
 "nbformat": 4,
 "nbformat_minor": 0
}
